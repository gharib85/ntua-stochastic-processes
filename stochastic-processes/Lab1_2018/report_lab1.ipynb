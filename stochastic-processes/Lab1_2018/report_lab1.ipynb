{
 "cells": [
  {
   "cell_type": "markdown",
   "metadata": {},
   "source": [
    "# 1η Εργαστηριακή Άσκηση στις Στοχαστικές Ανελίξεις \n",
    "Όνομα: Μάριος Παπαχρήστου\n",
    "\n",
    "ΑΜ: 03115101 (ΗΜΜΥ ΕΜΠ)\n",
    "\n",
    "\n",
    "### Ασκηση  \n",
    "\n",
    "Στο σχήμα του βιβλίου φαίνεται η κάτοψη ενός σπιτιού με πέντε δωμάτια: κουζίνα (Κ), βιβλιοθήκη (Β), σαλόνι (S), υπνοδωμάτιο (Υ) και μπάνιο(Μ), καθώς και οι πόρτες που τα συνδέουν. ΄Ενα έντομο που ζει στο σπίτι κάθε βράδυ διασχίζει τυχαία μία από τις πόρτες του δωματίου στο οποίο βρίσκεται και παραμένει στο δωμάτιο που οδηγεί η πόρτα μέχρι το επόμενο βράδυ. Αρχικά το έντομο βρίσκεται στο μπάνιο. Αν $\\{X_n\\}_{n \\in \\mathbb N_0}$ είναι η μαρκοβιανή αλυσίδα στον χώρο καταστάσεων $\\mathbb X =\\{K, B, S, Y, M \\}$ που περιγράφει τη θέση του εντόμου μετά από n βράδυα, βρείτε τον πίνακα πιθανοτήτων μετάβασής της. Κατόπιν τρέξτε τα πρώτα 20 βήματα της αλυσίδας.\n",
    "\n",
    "### Εκτέλεση\n",
    "\n",
    "* Κάνουμε τα απαραίτητα imports"
   ]
  },
  {
   "cell_type": "code",
   "execution_count": 15,
   "metadata": {},
   "outputs": [],
   "source": [
    "from simple_markov_chain_lib import markov_chain  # import markov chain simulator"
   ]
  },
  {
   "cell_type": "markdown",
   "metadata": {},
   "source": [
    "*  Στη συνέχεια ορίζουμε την $(\\pi, P)$-μ.α. ως εξής με την βοήθεια του διπλού λεξικού `markov_table` και του λεξικού `init_dist`\n",
    "\n",
    "Έχουμε υποθέσει ότι το έντομο κινείται με πιθανότητες μετάβασης $p(u,v) = \\frac 1 {\\deg(u)} \\mathbb 1 \\{ (u,v) \\in E \\}$"
   ]
  },
  {
   "cell_type": "code",
   "execution_count": 16,
   "metadata": {},
   "outputs": [],
   "source": [
    "markov_table = {\n",
    "    'K' : {'B' : 0.5, 'S' : 0.5},\n",
    "    'B' : {'K' : 0.5, 'S': 0.5},\n",
    "    'S' : {'K' : 0.25, 'B' : 0.25, 'Y' : 0.25, 'M' : 0.25},\n",
    "    'M' : { 'S' : 1.0},\n",
    "    'Y' : { 'S' : 1.0}\n",
    "}\n",
    "\n",
    "# Initial Distribution\n",
    "init_dist = {'M': 1.}  # we start from state 0 with probability 1\n",
    "\n",
    "mc = markov_chain(markov_table, init_dist)"
   ]
  },
  {
   "cell_type": "markdown",
   "metadata": {},
   "source": [
    "* Κατόπιν τρέχουμε την αλυσίδα για 20 βήματα"
   ]
  },
  {
   "cell_type": "code",
   "execution_count": 17,
   "metadata": {},
   "outputs": [
    {
     "name": "stdout",
     "output_type": "stream",
     "text": [
      "At time 0 the chain is in state M\n",
      "At time 1 the chain is in state S\n",
      "At time 2 the chain is in state Y\n",
      "At time 3 the chain is in state S\n",
      "At time 4 the chain is in state Y\n",
      "At time 5 the chain is in state S\n",
      "At time 6 the chain is in state K\n",
      "At time 7 the chain is in state S\n",
      "At time 8 the chain is in state K\n",
      "At time 9 the chain is in state B\n",
      "At time 10 the chain is in state K\n",
      "At time 11 the chain is in state B\n",
      "At time 12 the chain is in state S\n",
      "At time 13 the chain is in state M\n",
      "At time 14 the chain is in state S\n",
      "At time 15 the chain is in state Y\n",
      "At time 16 the chain is in state S\n",
      "At time 17 the chain is in state M\n",
      "At time 18 the chain is in state S\n",
      "At time 19 the chain is in state K\n",
      "At time 20 the chain is in state B\n"
     ]
    }
   ],
   "source": [
    "mc.start()\n",
    "print(\"At time {} the chain is in state {}\".format(mc.steps, mc.running_state))\n",
    "for i in range(20):\n",
    "    mc.move()\n",
    "    print(\"At time {} the chain is in state {}\".format(mc.steps, mc.running_state))"
   ]
  },
  {
   "cell_type": "markdown",
   "metadata": {},
   "source": [
    "## Αναφορές\n",
    "\n",
    "1. Λουλάκης Μιχαήλ, Στοχαστικές Διαδικασίες, Αποθετήριο Κάλλιπος\n",
    "2. Papoulis, Athanasios, and S. Unnikrishna Pillai. Probability, random variables, and stochastic processes. Tata McGraw-Hill Education, 2002."
   ]
  }
 ],
 "metadata": {
  "kernelspec": {
   "display_name": "Python 3",
   "language": "python",
   "name": "python3"
  },
  "language_info": {
   "codemirror_mode": {
    "name": "ipython",
    "version": 3
   },
   "file_extension": ".py",
   "mimetype": "text/x-python",
   "name": "python",
   "nbconvert_exporter": "python",
   "pygments_lexer": "ipython3",
   "version": "3.5.2"
  }
 },
 "nbformat": 4,
 "nbformat_minor": 2
}
