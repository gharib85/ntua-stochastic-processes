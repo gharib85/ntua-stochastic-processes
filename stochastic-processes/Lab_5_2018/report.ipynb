{
 "cells": [
  {
   "cell_type": "markdown",
   "metadata": {},
   "source": [
    "# Στοχαστικές Ανελίξεις\n",
    "## 5η Εργαστηριακή Άσκηση\n",
    "\n",
    "Όνομα : Μάριος Παπαχρήστου\n",
    "\n",
    "ΑΜ : 03115101 (ΣΗΜΜΥ ΕΜΠ)\n",
    "\n",
    "email: papachristoumarios@gmail.com\n"
   ]
  },
  {
   "cell_type": "markdown",
   "metadata": {},
   "source": [
    "### Παραδοτέο 1\n",
    "\n",
    "#### Ερώτημα 1ο\n",
    "\n",
    "Η παρατήρηση αυτή οφείλεται στη μαρκοβιανή ιδιότητα η οποία λέει ότι $$\\Pr [X_n = x_n | X_{n-1} = x_{n-1}, \\dotsm X_0 = x_0] = \\Pr [X_n = x_n | X_{n-1} = x_{n-1}]$$\n",
    "\n",
    "Θέλοντας να εκτιμήσουμε την $\\mathbb{E}\\big[X\\big]$, χρησιμοποιούμε την εκτιμήτρια $ M_N=\\frac{X_1+\\cdots X_N}{N}$, όπου οι $X_1,\\ldots,X_N$ είναι ανεξάρτητα δείγματα της τ.μ. $X$. Η μ.α. μας επιτρέπει να ξεκινήσουμε από όπου θέλουμε χωρίς να την κάνουμε συνέχεια restart. \n",
    "\n",
    "#### Ερώτημα 2ο \n",
    "\n",
    "H αναλλοίωτη κατανομή μπορεί να βρεθεί με χρήση του Θ19 ως (θέτοντας $Z = \\mathbb E [T_1^+]$):\n",
    "$$\\pi_1(1) = 1 / Z, \\qquad \\pi_1(y) = \\mathbb E_x \\left [\\sum \\mathbb 1 \\{ X_k = y \\} \\right ] / Z, \\qquad y = 2,3,4$$\n",
    "Επομένως μπορούμε έτσι να υπολογίσουμε την $\\pi_1$\n",
    "\n",
    "Θεωρητικά θέλουμε το $$\\pi_x = \\pi_x P, \\; \\sum_x \\pi_x(x) = 1 \\iff \\pi_x = (18/97, 9/97, 45/97, 25/97)$$\n",
    "\n",
    "Παρατηρούμε ότι τα δύο αποτελέσματα **συμφωνούν**. Αυτό είναι αναμενόμενο διότι η $x = 1$ είναι γν. επαναληπτική και η κλάση $\\mathcal C_1 = \\mathbb X$ είναι κλειστή, οπότε σύμφωνα με το Θ19 η αναλλοίωτη θα έχει συγκεκριμένη μορφή. Επομένως αναμένουμε και $\\pi_1 = \\pi_2 = \\pi_3 = \\pi_4$   \n",
    "\n",
    "#### Ερώτημα 3ο\n",
    "\n",
    "Στην υλοποίησή μας έχουμε ορίσει την συνάρτηση `invariant_calculation(x0, N)` που υπολογίζει την αναλλοίωτη με βάση το Θ19 για αρχική κατάσταση `x0` και `N` εκδρομές. \n",
    "Για τις υπόλοιπες αρχικές καταστάσεις προσθέτουμε ένα βρόχο\n",
    "```python\n",
    "for i in [1,2,3,4]:\n",
    "    invariant_calculation(i)\n",
    "```\n",
    "\n",
    "και υπολογίζουμε τις $\\pi_4, \\pi_2, \\pi_3$ οι οποίες θα βγουν ίδιες με την $\\pi_1$"
   ]
  },
  {
   "cell_type": "code",
   "execution_count": 1,
   "metadata": {},
   "outputs": [
    {
     "name": "stdout",
     "output_type": "stream",
     "text": [
      "Calculation for initial state x0=1\n",
      "\n",
      "Simulation Number : 1\n",
      "Z = 5.389618\n",
      "Expected Visits starting from 1:\n",
      "State = 1 : p = 0.1855419066805848\n",
      "State = 2 : p = 0.09284294360008448\n",
      "State = 3 : p = 0.46364621759835306\n",
      "State = 4 : p = 0.2579691176628845\n",
      "Sum of all probs = 1.0000001855419067\n",
      "\n",
      "Simulation Number : 2\n",
      "Z = 5.388479\n",
      "Expected Visits starting from 1:\n",
      "State = 1 : p = 0.18558112595409576\n",
      "State = 2 : p = 0.09294125485132261\n",
      "State = 3 : p = 0.4640817937677775\n",
      "State = 4 : p = 0.2573960110079301\n",
      "Sum of all probs = 1.000000185581126\n",
      "\n",
      "Simulation Number : 3\n",
      "Z = 5.388687\n",
      "Expected Visits starting from 1:\n",
      "State = 1 : p = 0.1855739626369095\n",
      "State = 2 : p = 0.09283597284459091\n",
      "State = 3 : p = 0.4638827603087728\n",
      "State = 4 : p = 0.25770748978368946\n",
      "Sum of all probs = 1.0000001855739626\n"
     ]
    }
   ],
   "source": [
    "from simple_markov_chain_lib import markov_chain\n",
    "\n",
    "## Build Markov Chain\n",
    "markov_table = {\n",
    "    1: {2: 0.5, 3: 0.5},\n",
    "    2: {1: 1/3, 4: 2/3},\n",
    "    3: {3: 0.8, 4: 0.2},\n",
    "    4: {1: 0.6, 4: 0.4}\n",
    "}\n",
    "\n",
    "def invariant_calculation(x0 = 1, N = 1000000):\n",
    "    print('Calculation for initial state x0={}'.format(x0))\n",
    "    init_dist = {x0 : 1.0} #the chain starts from state 1 since we are interested in excursions around state 1.\n",
    "    for i in range(3):\n",
    "        print('\\nSimulation Number : {}'.format(i + 1))\n",
    "        mc = markov_chain(markov_table, init_dist)\n",
    "\n",
    "        ##Initialize the dictionary \"visits\". Every state is a key of this dictionary, with value 0\n",
    "        visits = {state: 0 for state in (1, 2, 3, 4)} \n",
    "\n",
    "        mc.start()\n",
    "        completed = 0\n",
    "\n",
    "        ##Simulate N excursions. Every time we complete an excursion we increase completed by 1.\n",
    "\n",
    "        sum_times = 0\n",
    "        t = 0\n",
    "        while completed < N:\n",
    "            visits[mc.running_state] += 1\n",
    "            mc.move()\n",
    "            if mc.running_state == x0:\n",
    "                sum_times += t\n",
    "                t = 1\n",
    "                completed +=1\n",
    "            else: t += 1    \n",
    "        Z = sum_times / completed        \n",
    "        print('Z = {}'.format(Z))\n",
    "        invariant = {}        \n",
    "\n",
    "        print(\"Expected Visits starting from 1:\")\n",
    "        for x, y in visits.items():\n",
    "            invariant[x] = 1 / Z if x == x0 else (y / N) / Z\n",
    "            print('State = {} : p = {}'.format(x, invariant[x]))\n",
    "        print('Sum of all probs = {}'.format(sum(invariant.values())))\n",
    "        \n",
    "invariant_calculation()"
   ]
  },
  {
   "cell_type": "markdown",
   "metadata": {},
   "source": [
    "### Παραδοτέο 2\n",
    "\n",
    "Η εκτίμηση του V(3) με Monte Carlo δίνεται με τυχαία δειγματοληψία σημείων σε κύβο πλευράς 2 (με όγκο 8) και λαμβάνοντας αυτά που έχουν πέσει μέσα στη μοναδιαία μπάλλα έτσι η εκτίμηση του V(3) είναι $$\\bar V(3) = 8 N_h / N$$\n",
    "Και το σφάλμα $$\\Delta V = |\\bar V(3) - V(3)|, \\qquad \\sigma_V = \\Delta V / V(3)$$"
   ]
  },
  {
   "cell_type": "code",
   "execution_count": 1,
   "metadata": {},
   "outputs": [
    {
     "name": "stdout",
     "output_type": "stream",
     "text": [
      "Total number of samples drawn 19091006\n",
      "Number of samples in the disk 10000000\n",
      "Theoretical V(3)=4.1887902047863905\n",
      "Experimental V(3)=4.1904549189288405\n",
      "Error = 0.0016647141424499523\n",
      "Relative Error = 0.0003974212269088433\n"
     ]
    }
   ],
   "source": [
    "import matplotlib.pyplot as plt\n",
    "%matplotlib inline  \n",
    "import numpy as np\n",
    "# Parameters\n",
    "N = 10e6  # number of required points\n",
    "Ntrials, Nhits = 0, 0\n",
    "acc_x, acc_y = [], []  # accepted x, y\n",
    "rej_x, rej_y = [], []  # rejected x, y\n",
    "\n",
    "# Rejection Sampling\n",
    "while Nhits < N:\n",
    "    Ntrials += 1\n",
    "    x, y, z = np.random.uniform(-1, 1, 3)\n",
    "    if x**2 + y**2 + z**2< 1:\n",
    "        acc_x.append(x)\n",
    "        acc_y.append(y)\n",
    "        Nhits += 1\n",
    "    else:\n",
    "        rej_x.append(x)\n",
    "        rej_y.append(y)\n",
    "\n",
    "print(\"Total number of samples drawn %d\" % Ntrials)\n",
    "print(\"Number of samples in the disk %d\" % N)\n",
    "V3 = 4 * np.pi / 3;\n",
    "V3_est = 8 *   (Nhits / Ntrials)\n",
    "err = abs(V3_est - V3)\n",
    "print('Theoretical V(3)=' + str(V3) )\n",
    "print('Experimental V(3)=' + str(V3_est))\n",
    "print('Error = {}'.format(err))\n",
    "print('Relative Error = {}'.format(err / V3))\n",
    "\n"
   ]
  },
  {
   "cell_type": "markdown",
   "metadata": {},
   "source": [
    "Με τον ίδιο τρόπο βρίσκουμε το εμβαδό του λιμνήσκου $L$ και του ολοκληρώματος $$I = \\iint_L |x + y|\\; dx dy$$"
   ]
  },
  {
   "cell_type": "code",
   "execution_count": 6,
   "metadata": {},
   "outputs": [
    {
     "name": "stdout",
     "output_type": "stream",
     "text": [
      "Total ratio: 0.5000157004929955\n",
      "Total number of samples drawn 19999372\n",
      "Number of samples in the disk 10000000\n"
     ]
    },
    {
     "data": {
      "image/png": "[encoded data removed]",
      "text/plain": [
       "<matplotlib.figure.Figure at 0x7fd99dbd3ef0>"
      ]
     },
     "metadata": {},
     "output_type": "display_data"
    },
    {
     "name": "stdout",
     "output_type": "stream",
     "text": [
      "Lake area is 4 times the ratio of Nhits / Ntrials so |L|=2.000062801971982\n"
     ]
    }
   ],
   "source": [
    "N = 10e6\n",
    "Ntrials, Nhits = 0, 0\n",
    "acc_x, acc_y = [], []  # accepted x, y\n",
    "rej_x, rej_y = [], []  # rejected x, y\n",
    "\n",
    "# Rejection Sampling\n",
    "while Nhits < N:\n",
    "    Ntrials += 1\n",
    "    x, y = np.random.uniform(-1, 1, 2)\n",
    "    if ( x**2 + y**2 ) **2 <= 2 * abs(x * y):\n",
    "        acc_x.append(x)\n",
    "        acc_y.append(y)\n",
    "        Nhits += 1\n",
    "    else:\n",
    "        rej_x.append(x)\n",
    "        rej_y.append(y)\n",
    "\n",
    "ratio = Nhits / Ntrials\n",
    "print('Total ratio: ' + str(ratio))\n",
    "\n",
    "print(\"Total number of samples drawn %d\" % Ntrials)\n",
    "print(\"Number of samples in the disk %d\" % N)\n",
    "\n",
    "fig, ax = plt.subplots()\n",
    "\n",
    "plt.scatter(acc_x, acc_y, color = 'green', s = 1) # parameter s determines the size of each dot in the scatter plot\n",
    "plt.scatter(rej_x, rej_y, color = 'red', s = 1)\n",
    "\n",
    "ax.set_xlim([-1, 1])\n",
    "ax.set_ylim([-1, 1])\n",
    "ax.set_aspect('equal')  # set aspect ratio 1:1\n",
    "\n",
    "plt.show()\n",
    "L = 4 * ratio\n",
    "print('Lake area is 4 times the ratio of Nhits / Ntrials so |L|={}'.format(L))"
   ]
  },
  {
   "cell_type": "code",
   "execution_count": 7,
   "metadata": {},
   "outputs": [
    {
     "name": "stdout",
     "output_type": "stream",
     "text": [
      "Area in L of f(x,y) = |x + y| is 0.9904737199833581\n"
     ]
    }
   ],
   "source": [
    "s = 0\n",
    "for x, y in zip(acc_x, acc_y):\n",
    "    s += abs(x + y)\n",
    "s /= Nhits\n",
    "I = L * s\n",
    "print('Area in L of f(x,y) = |x + y| is {}'.format(I) )"
   ]
  },
  {
   "cell_type": "markdown",
   "metadata": {},
   "source": [
    "Ο υπολογισμός του 2ου ολοκληρώματος έγινε χρησιμοποιώντας τα σημεία που έχουμε δεχτεί και βρίσκονται μέσα στο λημνίσκο δηλαδή:\n",
    "\n",
    "$$I  = \\frac {|L|} {N_h} \\; \\sum_{(x, y) \\in L} |x + y| $$\n",
    "\n"
   ]
  },
  {
   "cell_type": "markdown",
   "metadata": {},
   "source": [
    "## Αναφορές \n",
    "\n",
    "[1] Λουλάκης Μιχαήλ, Στοχαστικές Ανελίξεις, Κάλλιπος"
   ]
  },
  {
   "cell_type": "code",
   "execution_count": null,
   "metadata": {},
   "outputs": [],
   "source": []
  }
 ],
 "metadata": {
  "kernelspec": {
   "display_name": "Python 3",
   "language": "python",
   "name": "python3"
  },
  "language_info": {
   "codemirror_mode": {
    "name": "ipython",
    "version": 3
   },
   "file_extension": ".py",
   "mimetype": "text/x-python",
   "name": "python",
   "nbconvert_exporter": "python",
   "pygments_lexer": "ipython3",
   "version": "3.5.2"
  }
 },
 "nbformat": 4,
 "nbformat_minor": 2
}
